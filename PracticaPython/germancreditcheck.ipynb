{
 "cells": [
  {
   "cell_type": "code",
   "execution_count": 8,
   "metadata": {},
   "outputs": [],
   "source": [
    "import tabpy_client\n",
    "client = tabpy_client.Client('http://localhost:9004/')\n",
    "\n",
    "def germancreditcheck(_arg1,_arg2,_arg3,_arg4,_arg5,_arg6,_arg7,_arg8,_arg9,_arg10,_arg11,_arg12,_arg13, _arg14, _arg15, _arg16, _arg17,_arg18, _arg19,_arg20):\n",
    "    import numpy as np\n",
    "    from sklearn.tree import DecisionTreeClassifier\n",
    "    import pandas as pd\n",
    "    data=pd.read_csv(r'C:\\Users\\its7ony\\Downloads\\PracticaPython\\_newGermanCreditData.csv')\n",
    "    X=data.drop('Class',axis=1)\n",
    "    y=data['Class']\n",
    "    clf = DecisionTreeClassifier(random_state=2)\n",
    "    clf.fit(X,y)\n",
    "\n",
    "    X_pred=np.transpose(np.array([_arg1,_arg2,_arg3,_arg4,_arg5,_arg6,\n",
    "    _arg7,_arg8,_arg9,_arg10,_arg11,_arg12,_arg13, _arg14, _arg15,\n",
    "    _arg16, _arg17, _arg18,_arg19, _arg20]))\n",
    "\n",
    "    pred = clf.predict(X_pred)\n",
    "    return pred.tolist()\n",
    "\n",
    "client.deploy('GermanCreditCheck', germancreditcheck,'Classifies bad or good according to the model trained by relevant dataset',override=True)"
   ]
  },
  {
   "cell_type": "code",
   "execution_count": null,
   "metadata": {},
   "outputs": [],
   "source": []
  }
 ],
 "metadata": {
  "kernelspec": {
   "display_name": "Python 3",
   "language": "python",
   "name": "python3"
  },
  "language_info": {
   "codemirror_mode": {
    "name": "ipython",
    "version": 3
   },
   "file_extension": ".py",
   "mimetype": "text/x-python",
   "name": "python",
   "nbconvert_exporter": "python",
   "pygments_lexer": "ipython3",
   "version": "3.8.3"
  }
 },
 "nbformat": 4,
 "nbformat_minor": 4
}
